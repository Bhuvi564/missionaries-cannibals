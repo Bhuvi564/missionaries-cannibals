{
  "nbformat": 4,
  "nbformat_minor": 0,
  "metadata": {
    "colab": {
      "provenance": [],
      "authorship_tag": "ABX9TyO08XqlQQqGgv8eEHijkaxA",
      "include_colab_link": true
    },
    "kernelspec": {
      "name": "python3",
      "display_name": "Python 3"
    },
    "language_info": {
      "name": "python"
    }
  },
  "cells": [
    {
      "cell_type": "markdown",
      "metadata": {
        "id": "view-in-github",
        "colab_type": "text"
      },
      "source": [
        "<a href=\"https://colab.research.google.com/github/Bhuvi564/missionaries-cannibals/blob/main/missionaries_cannibals_game_using_python.ipynb\" target=\"_parent\"><img src=\"https://colab.research.google.com/assets/colab-badge.svg\" alt=\"Open In Colab\"/></a>"
      ]
    },
    {
      "cell_type": "code",
      "execution_count": 1,
      "metadata": {
        "colab": {
          "base_uri": "https://localhost:8080/"
        },
        "id": "CoPAeCD6by0Q",
        "outputId": "e90afa05-7731-4853-e4ec-0501028822c0"
      },
      "outputs": [
        {
          "output_type": "stream",
          "name": "stdout",
          "text": [
            "M= 0 C= 0 |-----B| M= 3 C= 3\n",
            "Enter the number of missionaries : 1\n",
            "Enter the number of cannibals: 1\n",
            "M= 1 C= 1 |B-----| M= 2 C= 2\n",
            "Enter the number of missionaries : 1\n",
            "Enter the number of cannibals: 0\n",
            "M= 0 C= 1 |-----B| M= 3 C= 2\n",
            "Enter the number of missionaries : 0\n",
            "Enter the number of cannibals: 2\n",
            "M= 0 C= 3 |B-----| M= 3 C= 0\n",
            "Enter the number of missionaries : 0\n",
            "Enter the number of cannibals: 1\n",
            "M= 0 C= 2 |-----B| M= 3 C= 1\n",
            "Enter the number of missionaries : 2\n",
            "Enter the number of cannibals: 0\n",
            "M= 2 C= 2 |B-----| M= 1 C= 1\n",
            "Enter the number of missionaries : 1\n",
            "Enter the number of cannibals: 1\n",
            "M= 1 C= 1 |-----B| M= 2 C= 2\n",
            "Enter the number of missionaries : 2\n",
            "Enter the number of cannibals: 0\n",
            "M= 3 C= 1 |B-----| M= 0 C= 2\n",
            "Enter the number of missionaries : 0\n",
            "Enter the number of cannibals: 1\n",
            "M= 3 C= 0 |-----B| M= 0 C= 3\n",
            "Enter the number of missionaries : 0\n",
            "Enter the number of cannibals: 2\n",
            "M= 3 C= 2 |B-----| M= 0 C= 1\n",
            "Enter the number of missionaries : 0\n",
            "Enter the number of cannibals: 1\n",
            "M= 3 C= 1 |-----B| M= 0 C= 2\n",
            "Enter the number of missionaries : 0\n",
            "Enter the number of cannibals: 2\n",
            "M= 3 C= 3 |B-----| M= 0 C= 0\n",
            "You win\n"
          ]
        }
      ],
      "source": [
        "boat_side = 'Right'\n",
        "missionaries_on_right = 3\n",
        "cannibals_on_right = 3\n",
        "missionaries_on_left = 0\n",
        "cannibals_on_left = 0\n",
        "\n",
        "print('M=',missionaries_on_left, 'C=',cannibals_on_left, '|-----B|', 'M=',missionaries_on_right,'C=',cannibals_on_right)\n",
        "\n",
        "while True:\n",
        "    missionaries = int(input('Enter the number of missionaries : '))\n",
        "    if missionaries == 10:\n",
        "        print('You Quit the game')\n",
        "        break\n",
        "    cannibals = int(input('Enter the number of cannibals: '))\n",
        "\n",
        "    if (missionaries + cannibals != 1) and (missionaries + cannibals != 2):\n",
        "        print('Invalid move')\n",
        "        continue\n",
        "    if boat_side == 'Right':\n",
        "       if (missionaries_on_right < missionaries) or (cannibals_on_right < cannibals ):\n",
        "           print('Invalid move')\n",
        "\n",
        "       missionaries_on_right = missionaries_on_right - missionaries\n",
        "       cannibals_on_right = cannibals_on_right - cannibals\n",
        "       missionaries_on_left += missionaries\n",
        "       cannibals_on_left += cannibals\n",
        "       print('M=',missionaries_on_left, 'C=',cannibals_on_left, '|B-----|', 'M=',missionaries_on_right,'C=',cannibals_on_right)\n",
        "\n",
        "       boat_side = 'Left'\n",
        "\n",
        "    else:\n",
        "        if (missionaries_on_left < missionaries) or (cannibals_on_left < cannibals):\n",
        "            print('Invalid move')\n",
        "        missionaries_on_left = missionaries_on_left - missionaries\n",
        "        cannibals_on_left = cannibals_on_left - cannibals\n",
        "        missionaries_on_right += missionaries\n",
        "        cannibals_on_right += cannibals\n",
        "        print('M=',missionaries_on_left, 'C=',cannibals_on_left, '|-----B|', 'M=',missionaries_on_right,'C=',cannibals_on_right)\n",
        "\n",
        "        boat_side = 'Right'\n",
        "\n",
        "    if (missionaries_on_right < cannibals_on_right and missionaries_on_right > 0) or (missionaries_on_left < cannibals_on_left and missionaries_on_left > 0 ):\n",
        "        print('You Lose !')\n",
        "        break\n",
        "\n",
        "    if (missionaries_on_left == 3 and cannibals_on_left == 3):\n",
        "        print('You win')\n",
        "        break1"
      ]
    }
  ]
}